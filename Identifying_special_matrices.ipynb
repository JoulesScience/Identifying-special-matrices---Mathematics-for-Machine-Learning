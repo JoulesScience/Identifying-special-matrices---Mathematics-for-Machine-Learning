{
  "nbformat": 4,
  "nbformat_minor": 0,
  "metadata": {
    "colab": {
      "provenance": [],
      "authorship_tag": "ABX9TyNqCUuqyj8hP36I6vH18iE7",
      "include_colab_link": true
    },
    "kernelspec": {
      "name": "python3",
      "display_name": "Python 3"
    },
    "language_info": {
      "name": "python"
    }
  },
  "cells": [
    {
      "cell_type": "markdown",
      "metadata": {
        "id": "view-in-github",
        "colab_type": "text"
      },
      "source": [
        "<a href=\"https://colab.research.google.com/github/JoulesScience/Identifying-special-matrices---Mathematics-for-Machine-Learning/blob/main/Identifying_special_matrices.ipynb\" target=\"_parent\"><img src=\"https://colab.research.google.com/assets/colab-badge.svg\" alt=\"Open In Colab\"/></a>"
      ]
    },
    {
      "cell_type": "code",
      "execution_count": 1,
      "metadata": {
        "colab": {
          "base_uri": "https://localhost:8080/"
        },
        "id": "QjRXWMox4vRb",
        "outputId": "ceaa503f-e21a-47e2-cdbc-c1f3efd66a40"
      },
      "outputs": [
        {
          "output_type": "execute_result",
          "data": {
            "text/plain": [
              "True"
            ]
          },
          "metadata": {},
          "execution_count": 1
        }
      ],
      "source": [
        "# GRADED FUNCTION\n",
        "import numpy as np\n",
        "\n",
        "# Our function will go through the matrix replacing each row in order turning it into echelon form.\n",
        "# If at any point it fails because it can't put a 1 in the leading diagonal,\n",
        "# we will return the value True, otherwise, we will return False.\n",
        "# There is no need to edit this function.\n",
        "def isSingular(A) :\n",
        "    B = np.array(A, dtype=np.float_) # Make B as a copy of A, since we're going to alter it's values.\n",
        "    try:\n",
        "        fixRowZero(B)\n",
        "        fixRowOne(B)\n",
        "        fixRowTwo(B)\n",
        "        fixRowThree(B)\n",
        "    except MatrixIsSingular:\n",
        "        return True\n",
        "    return False\n",
        "\n",
        "# This next line defines our error flag. For when things go wrong if the matrix is singular.\n",
        "# There is no need to edit this line.\n",
        "class MatrixIsSingular(Exception): pass\n",
        "# For Row Zero, all we require is the first element is equal to 1.\n",
        "# We'll divide the row by the value of A[0, 0].\n",
        "# This will get us in trouble though if A[0, 0] equals 0, so first we'll test for that,\n",
        "# and if this is true, we'll add one of the lower rows to the first one before the division.\n",
        "# We'll repeat the test going down each lower row until we can do the division.\n",
        "# There is no need to edit this function.\n",
        "def fixRowZero(A) :\n",
        "    if A[0,0] == 0 :\n",
        "        A[0] = A[0] + A[1]\n",
        "    if A[0,0] == 0 :\n",
        "        A[0] = A[0] + A[2]\n",
        "    if A[0,0] == 0 :\n",
        "        A[0] = A[0] + A[3]\n",
        "    if A[0,0] == 0 :\n",
        "        raise MatrixIsSingular()\n",
        "    A[0] = A[0] / A[0,0]\n",
        "    return A\n",
        "# First we'll set the sub-diagonal elements to zero, i.e. A[1,0].\n",
        "# Next we want the diagonal element to be equal to one.\n",
        "# We'll divide the row by the value of A[1, 1].\n",
        "# Again, we need to test if this is zero.\n",
        "# If so, we'll add a lower row and repeat setting the sub-diagonal elements to zero.\n",
        "# There is no need to edit this function.\n",
        "def fixRowOne(A) :\n",
        "    A[1] = A[1] - A[1,0] * A[0]\n",
        "    if A[1,1] == 0 :\n",
        "        A[1] = A[1] + A[2]\n",
        "        A[1] = A[1] - A[1,0] * A[0]\n",
        "    if A[1,1] == 0 :\n",
        "        A[1] = A[1] + A[3]\n",
        "        A[1] = A[1] - A[1,0] * A[0]\n",
        "    if A[1,1] == 0 :\n",
        "        raise MatrixIsSingular()\n",
        "    A[1] = A[1] / A[1,1]\n",
        "    return A\n",
        "# This is the first function that you should complete.\n",
        "# Follow the instructions inside the function at each comment.\n",
        "def fixRowTwo(A) :\n",
        "    # Insert code below to set the sub-diagonal elements of row two to zero (there are two of them).\n",
        "    A[2] = A[2] - A[2,0] * A[0]\n",
        "    A[2] = A[2] - A[2,1] * A[1]\n",
        "    # Next we'll test that the diagonal element is not zero.\n",
        "    if A[2,2] == 0 :\n",
        "        # Insert code below that adds a lower row to row 2.\n",
        "        if A[2,2] == 0 :\n",
        "            A[2] = A[2] + A[3]\n",
        "            # Now repeat your code which sets the sub-diagonal elements to zero.\n",
        "            A[2] = A[2] - A[2,0] * A[0]\n",
        "            A[2] = A[2] - A[2,1] * A[1]\n",
        "    # Complete the if statement to test if the diagonal element is zero.\n",
        "    if A[2,2] == 0 :\n",
        "        raise MatrixIsSingular()\n",
        "    # Finally set the diagonal element to one by dividing the whole row by that element.\n",
        "    A[2] = A[2] / A[2,2]\n",
        "    return A\n",
        "# You should also complete this function\n",
        "# Follow the instructions inside the function at each comment.\n",
        "def fixRowThree(A) :\n",
        "    # Insert code below to set the sub-diagonal elements of row three to zero.\n",
        "    A[3] = A[3] - A[3,0] * A[0]\n",
        "    A[3] = A[3] - A[3,1] * A[1]\n",
        "    A[3] = A[3] - A[3,2] * A[2]\n",
        "\n",
        "    # Complete the if statement to test if the diagonal element is zero.\n",
        "    if A[3,3] == 0 :\n",
        "        raise MatrixIsSingular()\n",
        "    # Transform the row to set the diagonal element to one.\n",
        "    A[3] = A[3] / A[3,3]\n",
        "    return A\n",
        "\n",
        "\n",
        "A = np.array([\n",
        "        [2, 0, 0, 0],\n",
        "        [0, 3, 0, 0],\n",
        "        [0, 0, 4, 4],\n",
        "        [0, 0, 5, 5]\n",
        "    ], dtype=np.float_)\n",
        "isSingular(A)\n"
      ]
    },
    {
      "cell_type": "code",
      "source": [
        "#A[0] = A[0] / A[0,0]\n",
        "\n",
        "#A[1] = A[1] - A[1,0] * A[0]\n",
        "\n",
        "B = [[1,1,1],[3,2,1],[2,1,2]]\n",
        "\n",
        "Binv = np.linalg.inv(B)\n",
        "#print(Binv)\n",
        "\n",
        "C = [[4,6,2],[3,4,1],[2,8,13]]\n",
        "\n",
        "s = [9,7,2]\n",
        "\n",
        "r = np.linalg.solve(C,s)\n",
        "\n",
        "print(r)\n",
        "\n",
        "\n",
        "CC = [[1,1,1],\n",
        "      [3,2,1],\n",
        "      [2,1,2]]\n",
        "\n",
        "ss = [15,28,23]\n",
        "\n",
        "rr = np.linalg.solve(CC,ss)\n",
        "\n",
        "print(rr)"
      ],
      "metadata": {
        "colab": {
          "base_uri": "https://localhost:8080/"
        },
        "id": "rR9ecpGoIFmS",
        "outputId": "d0c2f4eb-a84a-499f-c5e1-9f760a82eec4"
      },
      "execution_count": null,
      "outputs": [
        {
          "output_type": "stream",
          "name": "stdout",
          "text": [
            "[ 3.  -0.5  0. ]\n",
            "[3. 7. 5.]\n"
          ]
        }
      ]
    }
  ]
}